{
 "cells": [
  {
   "cell_type": "code",
   "execution_count": 1,
   "metadata": {},
   "outputs": [],
   "source": [
    "import pandas as pd\n",
    "import os\n",
    "import numpy as npdfType.head()\n",
    "import statistics as stat"
   ]
  },
  {
   "cell_type": "code",
   "execution_count": 2,
   "metadata": {},
   "outputs": [],
   "source": [
    "\n",
    "def diceThrow(M,s,sum_s,t):\n",
    "    if (t==0):\n",
    "        s.append(np.random.randint(1,7))\n",
    "        sum_s.append(sum(s))\n",
    "        t=t+1\n",
    "    elif sum(s)<M:\n",
    "        #print(s,t)\n",
    "        s.append(np.random.randint(1,7))\n",
    "        sum_s.append(sum(s))\n",
    "        t=t+1        \n",
    "    else:\n",
    "        return t,sum(s),sum(sum_s),(1+t)/2,stat.mean(s),stat.mean(sum_s),stat.stdev(s),stat.stdev(sum_s)\n",
    "    return diceThrow(M,s,sum_s,t)"
   ]
  },
  {
   "cell_type": "code",
   "execution_count": 3,
   "metadata": {},
   "outputs": [],
   "source": [
    "s=[]\n",
    "sum_s=[]\n",
    "\n",
    "diceThrows,diceThrowSum,sumDiceThrowSum,meanDiceThrows,meanDiceThrowSum,meanSumdiceThrowSum,stdDevDiceThrowSum,stdDevsumDiceThrowSum=diceThrow(20,s,sum_s,0)\n"
   ]
  },
  {
   "cell_type": "code",
   "execution_count": 4,
   "metadata": {},
   "outputs": [
    {
     "name": "stdout",
     "output_type": "stream",
     "text": [
      "Mean of the sum - M :  -5.199999999999999  when M is 20\n",
      "Std Dev of the sum - M :  -13.166260174692045  when M is 20\n",
      "Mean of the number of rolls :  3.0   when M 0\n"
     ]
    }
   ],
   "source": [
    "# Section 3\n",
    "#1\n",
    "print(\"Mean of the sum - M : \", meanSumdiceThrowSum-20, \" when M is 20\")\n",
    "#2 \n",
    "print(\"Std Dev of the sum - M : \", stdDevsumDiceThrowSum-20, \" when M is 20\")\n",
    "\n",
    "#4\n",
    "print(\"Mean of the number of rolls : \", meanDiceThrows, \"  when M 0\")"
   ]
  },
  {
   "cell_type": "code",
   "execution_count": 5,
   "metadata": {},
   "outputs": [],
   "source": [
    "s=[]\n",
    "sum_s=[]\n",
    "\n",
    "diceThrows,diceThrowSum,sumDiceThrowSum,meanDiceThrows,meanDiceThrowSum,meanSumdiceThrowSum,stdDevDiceThrowSum,stdDevsumDiceThrowSum=diceThrow(5000,s,sum_s,0)\n",
    "\n"
   ]
  },
  {
   "cell_type": "code",
   "execution_count": 6,
   "metadata": {},
   "outputs": [
    {
     "name": "stdout",
     "output_type": "stream",
     "text": [
      "Mean of the number of rolls :  719.0   when M 5000\n",
      "Mean of the sum - M :  -2502.8343771746695  when sum is 5000\n",
      "Std Dev of the sum - M :  -3545.5167664327478  when sum is 5000\n"
     ]
    }
   ],
   "source": [
    "#Section 3\n",
    "\n",
    "#3\n",
    "print(\"Mean of the number of rolls : \", meanDiceThrows, \"  when M 5000\")\n",
    "\n",
    "#5\n",
    "print(\"Mean of the sum - M : \", meanSumdiceThrowSum-5000, \" when sum is 5000\")\n",
    "#6 \n",
    "print(\"Std Dev of the sum - M : \", stdDevsumDiceThrowSum-5000, \" when sum is 5000\")\n",
    "\n"
   ]
  },
  {
   "cell_type": "code",
   "execution_count": 7,
   "metadata": {},
   "outputs": [],
   "source": [
    "#Section 2"
   ]
  },
  {
   "cell_type": "code",
   "execution_count": 8,
   "metadata": {},
   "outputs": [
    {
     "name": "stderr",
     "output_type": "stream",
     "text": [
      "/Users/aliasgherdalal/opt/anaconda3/lib/python3.8/site-packages/IPython/core/interactiveshell.py:3146: DtypeWarning: Columns (18) have mixed types.Specify dtype option on import or set low_memory=False.\n",
      "  has_raised = await self.run_ast_nodes(code_ast.body, cell_name,\n"
     ]
    }
   ],
   "source": [
    "os.getcwdb()\n",
    "df2016=pd.read_csv(\"calls_for_service_2016.csv\")\n",
    "df2017=pd.read_csv(\"calls_for_service_2017.csv\")\n",
    "df2018=pd.read_csv(\"calls_for_service_2018.csv\")\n",
    "df2019=pd.read_csv(\"calls_for_service_2019.csv\")\n",
    "df2020=pd.read_csv(\"calls_for_service_2020.csv\")"
   ]
  },
  {
   "cell_type": "markdown",
   "metadata": {},
   "source": [
    "## Section 2-1: What fractions of the call are most common type?"
   ]
  },
  {
   "cell_type": "code",
   "execution_count": 9,
   "metadata": {},
   "outputs": [
    {
     "name": "stdout",
     "output_type": "stream",
     "text": [
      "Section 2-1: What fractions of the call are most common type:  0.23926753093150255\n"
     ]
    }
   ],
   "source": [
    "print(\"Section 2-1: What fractions of the call are most common type: \", df2020[\"Type\"].value_counts().max()/df2020[\"Type\"].value_counts().sum())"
   ]
  },
  {
   "cell_type": "code",
   "execution_count": 10,
   "metadata": {},
   "outputs": [],
   "source": [
    "dfAll=[df2016,df2017,df2018,df2019,df2020]\n",
    "dfMerged=pd.concat(dfAll)\n",
    "dfMerged[dfMerged['NOPD_Item'].duplicated() == True].count()\n",
    "dfMergedDeDup=dfMerged.drop_duplicates(subset='NOPD_Item',keep='first')"
   ]
  },
  {
   "cell_type": "markdown",
   "metadata": {},
   "source": [
    "## Section 2: 2 How many duplicate rows were removed?"
   ]
  },
  {
   "cell_type": "code",
   "execution_count": 11,
   "metadata": {},
   "outputs": [
    {
     "name": "stdout",
     "output_type": "stream",
     "text": [
      "Section 2: 2 How many duplicate rows were removed:  5724\n"
     ]
    }
   ],
   "source": [
    "print(\"Section 2: 2 How many duplicate rows were removed: \", dfMerged[\"NOPD_Item\"].count()-dfMergedDeDup[\"NOPD_Item\"].count() )\n"
   ]
  },
  {
   "cell_type": "markdown",
   "metadata": {},
   "source": [
    "## Section 2: 3 Work out the average (mean) response time in each district. What is the difference between the average response times of the districts with the longest and shortest times?\n"
   ]
  },
  {
   "cell_type": "code",
   "execution_count": null,
   "metadata": {},
   "outputs": [],
   "source": [
    "dfMergedDeDup.count()\n",
    "dfTime=pd.DataFrame()\n",
    "dfTime[[\"PoliceDistrict\",\"TimeCreate\",\"TimeDispatch\",\"TimeArrive\"]]=dfMergedDeDup[[\"PoliceDistrict\",\"TimeCreate\",\"TimeDispatch\",\"TimeArrive\"]]\n",
    "dfTime.head()\n",
    "\n"
   ]
  },
  {
   "cell_type": "code",
   "execution_count": 208,
   "metadata": {},
   "outputs": [
    {
     "data": {
      "text/html": [
       "<div>\n",
       "<style scoped>\n",
       "    .dataframe tbody tr th:only-of-type {\n",
       "        vertical-align: middle;\n",
       "    }\n",
       "\n",
       "    .dataframe tbody tr th {\n",
       "        vertical-align: top;\n",
       "    }\n",
       "\n",
       "    .dataframe thead th {\n",
       "        text-align: right;\n",
       "    }\n",
       "</style>\n",
       "<table border=\"1\" class=\"dataframe\">\n",
       "  <thead>\n",
       "    <tr style=\"text-align: right;\">\n",
       "      <th></th>\n",
       "      <th>PoliceDistrict</th>\n",
       "      <th>TimeCreate</th>\n",
       "      <th>TimeDispatch</th>\n",
       "      <th>TimeArrive</th>\n",
       "    </tr>\n",
       "  </thead>\n",
       "  <tbody>\n",
       "    <tr>\n",
       "      <th>0</th>\n",
       "      <td>8</td>\n",
       "      <td>04/07/2016 09:24:16 PM</td>\n",
       "      <td>04/07/2016 09:26:29 PM</td>\n",
       "      <td>04/07/2016 09:37:10 PM</td>\n",
       "    </tr>\n",
       "    <tr>\n",
       "      <th>1</th>\n",
       "      <td>0</td>\n",
       "      <td>04/07/2016 09:56:49 PM</td>\n",
       "      <td>NaN</td>\n",
       "      <td>04/07/2016 09:56:49 PM</td>\n",
       "    </tr>\n",
       "    <tr>\n",
       "      <th>2</th>\n",
       "      <td>7</td>\n",
       "      <td>04/07/2016 10:00:09 PM</td>\n",
       "      <td>04/07/2016 10:03:15 PM</td>\n",
       "      <td>04/07/2016 10:12:58 PM</td>\n",
       "    </tr>\n",
       "    <tr>\n",
       "      <th>3</th>\n",
       "      <td>0</td>\n",
       "      <td>09/30/2016 02:06:54 AM</td>\n",
       "      <td>09/30/2016 02:07:09 AM</td>\n",
       "      <td>09/30/2016 02:06:54 AM</td>\n",
       "    </tr>\n",
       "    <tr>\n",
       "      <th>4</th>\n",
       "      <td>8</td>\n",
       "      <td>04/07/2016 10:48:36 PM</td>\n",
       "      <td>NaN</td>\n",
       "      <td>04/07/2016 10:48:36 PM</td>\n",
       "    </tr>\n",
       "  </tbody>\n",
       "</table>\n",
       "</div>"
      ],
      "text/plain": [
       "   PoliceDistrict              TimeCreate            TimeDispatch  \\\n",
       "0               8  04/07/2016 09:24:16 PM  04/07/2016 09:26:29 PM   \n",
       "1               0  04/07/2016 09:56:49 PM                     NaN   \n",
       "2               7  04/07/2016 10:00:09 PM  04/07/2016 10:03:15 PM   \n",
       "3               0  09/30/2016 02:06:54 AM  09/30/2016 02:07:09 AM   \n",
       "4               8  04/07/2016 10:48:36 PM                     NaN   \n",
       "\n",
       "               TimeArrive  \n",
       "0  04/07/2016 09:37:10 PM  \n",
       "1  04/07/2016 09:56:49 PM  \n",
       "2  04/07/2016 10:12:58 PM  \n",
       "3  09/30/2016 02:06:54 AM  \n",
       "4  04/07/2016 10:48:36 PM  "
      ]
     },
     "execution_count": 208,
     "metadata": {},
     "output_type": "execute_result"
    }
   ],
   "source": [
    "meanL=[]\n",
    "meanL.append(dfTime.groupby('PoliceDistrict')[\"TimeResponse\"].mean())\n",
    "print(\"Difference average response times of the districts with the longest and shortest times: \",(max(meanL[0])-min(meanL[0])), \" sec\")"
   ]
  },
  {
   "cell_type": "markdown",
   "metadata": {},
   "source": [
    "## Section 2: 4 What is the largest ratio of conditional probabilty of an event type given a district to unconditional probability of that event  ?"
   ]
  },
  {
   "cell_type": "code",
   "execution_count": 870,
   "metadata": {},
   "outputs": [],
   "source": [
    "dfMergedDeDupFil = dfMergedDeDup[dfMergedDeDup.PoliceDistrict > 0]\n",
    "dfMergedDeDupFil=dfMergedDeDupFil.groupby('Type_').filter(lambda x: len(x) >=100)"
   ]
  },
  {
   "cell_type": "code",
   "execution_count": 871,
   "metadata": {},
   "outputs": [],
   "source": [
    "typeList=[]\n",
    "countList=dfMergedDeDupFil.groupby('Type_')['Type_'].count()\n",
    "typeList=countList.index.to_list()"
   ]
  },
  {
   "cell_type": "code",
   "execution_count": 872,
   "metadata": {},
   "outputs": [],
   "source": [
    "max=0\n",
    "for item in typeList:\n",
    "    x=dfMergedDeDupFil[dfMergedDeDupFil['Type_']==item]['Type_'].count()/dfMergedDeDupFil['Type_'].count()\n",
    "    y=(dfMergedDeDupFil[dfMergedDeDupFil['Type_']==item]['Type_'].count()/dfMergedDeDupFil['Type_'].count()*(1/(dfMergedDeDupFil[dfMergedDeDupFil['Type_']==item].groupby('PoliceDistrict')['Type_'].count()/dfMergedDeDupFil.groupby('PoliceDistrict')['Type_'].count()))).max()    \n",
    "    if x>max:\n",
    "        max=y"
   ]
  },
  {
   "cell_type": "code",
   "execution_count": 873,
   "metadata": {},
   "outputs": [
    {
     "name": "stdout",
     "output_type": "stream",
     "text": [
      "Largest Ratio:  60.88326833908799\n"
     ]
    }
   ],
   "source": [
    "print(\"Largest Ratio: \", y)"
   ]
  },
  {
   "cell_type": "markdown",
   "metadata": {},
   "source": [
    "## Section 2:  5  What is the fraction of the 2016 volume that this decrease represents? The answer should be between 0 and 1. "
   ]
  },
  {
   "cell_type": "code",
   "execution_count": 230,
   "metadata": {},
   "outputs": [
    {
     "data": {
      "text/plain": [
       "0.01644503894877646"
      ]
     },
     "execution_count": 230,
     "metadata": {},
     "output_type": "execute_result"
    }
   ],
   "source": [
    "(df2020['TypeText'].value_counts()/df2016['TypeText'].value_counts()).min()\n",
    "\n"
   ]
  },
  {
   "cell_type": "markdown",
   "metadata": {},
   "source": [
    "## Section 2: 6 What is a median response (dispatch to arrival) in sec considering only valid (i.e. non-negative values ?"
   ]
  },
  {
   "cell_type": "code",
   "execution_count": 215,
   "metadata": {},
   "outputs": [],
   "source": [
    "dfTime[\"TimeResponseDisptach\"]=(pd.to_datetime(dfTime['TimeArrive'])-pd.to_datetime(dfTime['TimeDispatch'])).dt.total_seconds()\n"
   ]
  },
  {
   "cell_type": "code",
   "execution_count": 229,
   "metadata": {},
   "outputs": [
    {
     "data": {
      "text/plain": [
       "185.0"
      ]
     },
     "execution_count": 229,
     "metadata": {},
     "output_type": "execute_result"
    }
   ],
   "source": [
    "dfTime['TimeResponseDisptach'][dfTime['TimeResponseDisptach']>=0].median()"
   ]
  },
  {
   "cell_type": "code",
   "execution_count": 936,
   "metadata": {},
   "outputs": [
    {
     "data": {
      "text/html": [
       "<div>\n",
       "<style scoped>\n",
       "    .dataframe tbody tr th:only-of-type {\n",
       "        vertical-align: middle;\n",
       "    }\n",
       "\n",
       "    .dataframe tbody tr th {\n",
       "        vertical-align: top;\n",
       "    }\n",
       "\n",
       "    .dataframe thead th {\n",
       "        text-align: right;\n",
       "    }\n",
       "</style>\n",
       "<table border=\"1\" class=\"dataframe\">\n",
       "  <thead>\n",
       "    <tr style=\"text-align: right;\">\n",
       "      <th></th>\n",
       "      <th>PoliceDistrict</th>\n",
       "      <th>TimeCreate</th>\n",
       "      <th>TimeDispatch</th>\n",
       "      <th>TimeArrive</th>\n",
       "      <th>TimeResponse</th>\n",
       "      <th>TimeResponseDisptach</th>\n",
       "    </tr>\n",
       "  </thead>\n",
       "  <tbody>\n",
       "    <tr>\n",
       "      <th>0</th>\n",
       "      <td>8</td>\n",
       "      <td>04/07/2016 09:24:16 PM</td>\n",
       "      <td>04/07/2016 09:26:29 PM</td>\n",
       "      <td>04/07/2016 09:37:10 PM</td>\n",
       "      <td>774.0</td>\n",
       "      <td>641.0</td>\n",
       "    </tr>\n",
       "    <tr>\n",
       "      <th>1</th>\n",
       "      <td>0</td>\n",
       "      <td>04/07/2016 09:56:49 PM</td>\n",
       "      <td>NaN</td>\n",
       "      <td>04/07/2016 09:56:49 PM</td>\n",
       "      <td>0.0</td>\n",
       "      <td>NaN</td>\n",
       "    </tr>\n",
       "    <tr>\n",
       "      <th>2</th>\n",
       "      <td>7</td>\n",
       "      <td>04/07/2016 10:00:09 PM</td>\n",
       "      <td>04/07/2016 10:03:15 PM</td>\n",
       "      <td>04/07/2016 10:12:58 PM</td>\n",
       "      <td>769.0</td>\n",
       "      <td>583.0</td>\n",
       "    </tr>\n",
       "    <tr>\n",
       "      <th>3</th>\n",
       "      <td>0</td>\n",
       "      <td>09/30/2016 02:06:54 AM</td>\n",
       "      <td>09/30/2016 02:07:09 AM</td>\n",
       "      <td>09/30/2016 02:06:54 AM</td>\n",
       "      <td>0.0</td>\n",
       "      <td>-15.0</td>\n",
       "    </tr>\n",
       "    <tr>\n",
       "      <th>4</th>\n",
       "      <td>8</td>\n",
       "      <td>04/07/2016 10:48:36 PM</td>\n",
       "      <td>NaN</td>\n",
       "      <td>04/07/2016 10:48:36 PM</td>\n",
       "      <td>0.0</td>\n",
       "      <td>NaN</td>\n",
       "    </tr>\n",
       "    <tr>\n",
       "      <th>...</th>\n",
       "      <td>...</td>\n",
       "      <td>...</td>\n",
       "      <td>...</td>\n",
       "      <td>...</td>\n",
       "      <td>...</td>\n",
       "      <td>...</td>\n",
       "    </tr>\n",
       "    <tr>\n",
       "      <th>432887</th>\n",
       "      <td>3</td>\n",
       "      <td>12/27/2020 02:05:53 AM</td>\n",
       "      <td>12/27/2020 02:05:53 AM</td>\n",
       "      <td>12/27/2020 02:05:53 AM</td>\n",
       "      <td>0.0</td>\n",
       "      <td>0.0</td>\n",
       "    </tr>\n",
       "    <tr>\n",
       "      <th>432888</th>\n",
       "      <td>8</td>\n",
       "      <td>12/27/2020 05:48:31 AM</td>\n",
       "      <td>12/27/2020 05:48:31 AM</td>\n",
       "      <td>12/27/2020 05:48:40 AM</td>\n",
       "      <td>9.0</td>\n",
       "      <td>9.0</td>\n",
       "    </tr>\n",
       "    <tr>\n",
       "      <th>432889</th>\n",
       "      <td>8</td>\n",
       "      <td>12/27/2020 10:45:25 AM</td>\n",
       "      <td>12/27/2020 10:50:26 AM</td>\n",
       "      <td>12/27/2020 10:53:00 AM</td>\n",
       "      <td>455.0</td>\n",
       "      <td>154.0</td>\n",
       "    </tr>\n",
       "    <tr>\n",
       "      <th>432890</th>\n",
       "      <td>3</td>\n",
       "      <td>12/27/2020 06:05:36 PM</td>\n",
       "      <td>12/27/2020 06:26:21 PM</td>\n",
       "      <td>12/27/2020 06:26:25 PM</td>\n",
       "      <td>1249.0</td>\n",
       "      <td>4.0</td>\n",
       "    </tr>\n",
       "    <tr>\n",
       "      <th>432891</th>\n",
       "      <td>1</td>\n",
       "      <td>12/27/2020 10:09:40 PM</td>\n",
       "      <td>12/28/2020 12:16:10 AM</td>\n",
       "      <td>12/28/2020 12:16:18 AM</td>\n",
       "      <td>7598.0</td>\n",
       "      <td>8.0</td>\n",
       "    </tr>\n",
       "  </tbody>\n",
       "</table>\n",
       "<p>2223577 rows × 6 columns</p>\n",
       "</div>"
      ],
      "text/plain": [
       "        PoliceDistrict              TimeCreate            TimeDispatch  \\\n",
       "0                    8  04/07/2016 09:24:16 PM  04/07/2016 09:26:29 PM   \n",
       "1                    0  04/07/2016 09:56:49 PM                     NaN   \n",
       "2                    7  04/07/2016 10:00:09 PM  04/07/2016 10:03:15 PM   \n",
       "3                    0  09/30/2016 02:06:54 AM  09/30/2016 02:07:09 AM   \n",
       "4                    8  04/07/2016 10:48:36 PM                     NaN   \n",
       "...                ...                     ...                     ...   \n",
       "432887               3  12/27/2020 02:05:53 AM  12/27/2020 02:05:53 AM   \n",
       "432888               8  12/27/2020 05:48:31 AM  12/27/2020 05:48:31 AM   \n",
       "432889               8  12/27/2020 10:45:25 AM  12/27/2020 10:50:26 AM   \n",
       "432890               3  12/27/2020 06:05:36 PM  12/27/2020 06:26:21 PM   \n",
       "432891               1  12/27/2020 10:09:40 PM  12/28/2020 12:16:10 AM   \n",
       "\n",
       "                    TimeArrive  TimeResponse  TimeResponseDisptach  \n",
       "0       04/07/2016 09:37:10 PM         774.0                 641.0  \n",
       "1       04/07/2016 09:56:49 PM           0.0                   NaN  \n",
       "2       04/07/2016 10:12:58 PM         769.0                 583.0  \n",
       "3       09/30/2016 02:06:54 AM           0.0                 -15.0  \n",
       "4       04/07/2016 10:48:36 PM           0.0                   NaN  \n",
       "...                        ...           ...                   ...  \n",
       "432887  12/27/2020 02:05:53 AM           0.0                   0.0  \n",
       "432888  12/27/2020 05:48:40 AM           9.0                   9.0  \n",
       "432889  12/27/2020 10:53:00 AM         455.0                 154.0  \n",
       "432890  12/27/2020 06:26:25 PM        1249.0                   4.0  \n",
       "432891  12/28/2020 12:16:18 AM        7598.0                   8.0  \n",
       "\n",
       "[2223577 rows x 6 columns]"
      ]
     },
     "execution_count": 936,
     "metadata": {},
     "output_type": "execute_result"
    }
   ],
   "source": [
    "dfTime"
   ]
  },
  {
   "cell_type": "markdown",
   "metadata": {},
   "source": [
    "## Section 2:  7  What is the slope of the line sec/year?"
   ]
  },
  {
   "cell_type": "code",
   "execution_count": 885,
   "metadata": {},
   "outputs": [],
   "source": [
    "dfTimeX=dfTime.reset_index()"
   ]
  },
  {
   "cell_type": "code",
   "execution_count": 903,
   "metadata": {},
   "outputs": [],
   "source": [
    "dfTimeX['TimeCreate']=pd.to_datetime(dfTimeX['TimeCreate']).dt.month"
   ]
  },
  {
   "cell_type": "code",
   "execution_count": 906,
   "metadata": {},
   "outputs": [],
   "source": [
    "meanTime=[]\n",
    "meanTime=dfTimeX.groupby('TimeCreate')['TimeResponse'].mean()"
   ]
  },
  {
   "cell_type": "code",
   "execution_count": 910,
   "metadata": {},
   "outputs": [],
   "source": [
    "months=[]\n",
    "months=meanTime.index.values"
   ]
  },
  {
   "cell_type": "code",
   "execution_count": 923,
   "metadata": {},
   "outputs": [
    {
     "data": {
      "text/plain": [
       "[<matplotlib.lines.Line2D at 0x7fd8b096efd0>]"
      ]
     },
     "execution_count": 923,
     "metadata": {},
     "output_type": "execute_result"
    },
    {
     "data": {
      "image/png": "[encoded data removed]",
      "text/plain": [
       "<Figure size 432x288 with 1 Axes>"
      ]
     },
     "metadata": {
      "needs_background": "light"
     },
     "output_type": "display_data"
    }
   ],
   "source": [
    "import matplotlib.pyplot as plt\n",
    "plt.plot(months,meanTime)"
   ]
  },
  {
   "cell_type": "code",
   "execution_count": 932,
   "metadata": {},
   "outputs": [
    {
     "data": {
      "text/plain": [
       "20.380300839452207"
      ]
     },
     "execution_count": 932,
     "metadata": {},
     "output_type": "execute_result"
    }
   ],
   "source": [
    "l=len(meanTime)\n",
    "m=(l*(meanTime*months).sum()-meanTime.sum()*months.sum())/(l*(months*months).sum()-(months.sum()*months.sum()))\n",
    "m"
   ]
  },
  {
   "cell_type": "markdown",
   "metadata": {},
   "source": [
    "## Section 2: 8 What is the area, in square kilometers, of the largest district measured in this manner?"
   ]
  },
  {
   "cell_type": "code",
   "execution_count": 944,
   "metadata": {},
   "outputs": [],
   "source": [
    "dfLoc=dfMergedDeDup.reset_index()"
   ]
  },
  {
   "cell_type": "code",
   "execution_count": 1031,
   "metadata": {},
   "outputs": [],
   "source": [
    "import re\n",
    "import statistics\n",
    "lat=[]\n",
    "long=[]\n",
    "A=[]\n",
    "\n",
    "\n",
    "#dfLoc.groupby('PoliceDistrict')['Location']\n",
    "for i in range(1,9):\n",
    "    lat=[]\n",
    "    long=[]\n",
    "    for item in dfLoc[dfLoc['PoliceDistrict']==i]['Location']:\n",
    "        x=re.findall(\"\\d+\\.\\d+\", item)\n",
    "        #print(x)\n",
    "        if bool(x)==True:\n",
    "            lat.append(float(x[0]))\n",
    "            long.append(float(x[1]))\n",
    "    A.append(np.pi*statistics.stdev(long)*statistics.stdev(lat))"
   ]
  },
  {
   "cell_type": "code",
   "execution_count": 1035,
   "metadata": {},
   "outputs": [
    {
     "data": {
      "text/plain": [
       "[2041.715407093762,\n",
       " 2021.845949596729,\n",
       " 2034.0525567487723,\n",
       " 2191.623672479558,\n",
       " 2121.8780822397634,\n",
       " 1979.7100738293116,\n",
       " 2046.2261902172734,\n",
       " 1924.7138972416337]"
      ]
     },
     "execution_count": 1035,
     "metadata": {},
     "output_type": "execute_result"
    }
   ],
   "source": [
    "A"
   ]
  },
  {
   "cell_type": "markdown",
   "metadata": {},
   "source": [
    "____________________________________________________________________________________________________________\n",
    "____________________________________________________________________________________________________________\n",
    "____________________________________________________________________________________________________________"
   ]
  }
 ],
 "metadata": {
  "kernelspec": {
   "display_name": "Python 3",
   "language": "python",
   "name": "python3"
  },
  "language_info": {
   "codemirror_mode": {
    "name": "ipython",
    "version": 3
   },
   "file_extension": ".py",
   "mimetype": "text/x-python",
   "name": "python",
   "nbconvert_exporter": "python",
   "pygments_lexer": "ipython3",
   "version": "3.8.5"
  }
 },
 "nbformat": 4,
 "nbformat_minor": 4
}
